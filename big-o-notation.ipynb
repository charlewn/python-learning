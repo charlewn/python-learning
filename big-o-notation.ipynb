{
 "cells": [
  {
   "cell_type": "markdown",
   "metadata": {
    "colab_type": "text",
    "id": "view-in-github"
   },
   "source": [
    "<a href=\"https://colab.research.google.com/gist/jonkrohn/9d8802220a065efdaa8d3000a73c403c/big-o-notation.ipynb\" target=\"_parent\"><img src=\"https://colab.research.google.com/assets/colab-badge.svg\" alt=\"Open In Colab\"/></a>"
   ]
  },
  {
   "cell_type": "markdown",
   "metadata": {
    "colab_type": "text",
    "id": "ubj0d3gCOzGX"
   },
   "source": [
    "# Big O Notation"
   ]
  },
  {
   "cell_type": "code",
   "execution_count": 2,
   "metadata": {
    "colab": {},
    "colab_type": "code",
    "id": "rR7kFMg3PSDT"
   },
   "outputs": [],
   "source": [
    "import time"
   ]
  },
  {
   "cell_type": "markdown",
   "metadata": {
    "colab_type": "text",
    "id": "DMLnnWCbO3QA"
   },
   "source": [
    "#### Constant Time"
   ]
  },
  {
   "cell_type": "code",
   "execution_count": 3,
   "metadata": {
    "colab": {},
    "colab_type": "code",
    "id": "BlnfRyUwO16k"
   },
   "outputs": [],
   "source": [
    "def take_first(my_list):\n",
    "  return my_list[0]"
   ]
  },
  {
   "cell_type": "code",
   "execution_count": 4,
   "metadata": {
    "colab": {},
    "colab_type": "code",
    "id": "Y5PIzM-4WoG-"
   },
   "outputs": [],
   "source": [
    "short_list = [13, 25, 42]"
   ]
  },
  {
   "cell_type": "code",
   "execution_count": 5,
   "metadata": {
    "colab": {},
    "colab_type": "code",
    "id": "3nHVIFonMGBp"
   },
   "outputs": [],
   "source": [
    "tic = time.time()\n",
    "first = take_first(short_list)\n",
    "toc = time.time()"
   ]
  },
  {
   "cell_type": "code",
   "execution_count": 6,
   "metadata": {
    "colab": {
     "base_uri": "https://localhost:8080/",
     "height": 34
    },
    "colab_type": "code",
    "id": "_Np65K7yXPFl",
    "outputId": "f9461fae-66b0-4a3a-f972-981c527df48e"
   },
   "outputs": [
    {
     "data": {
      "text/plain": [
       "13"
      ]
     },
     "execution_count": 6,
     "metadata": {},
     "output_type": "execute_result"
    }
   ],
   "source": [
    "first"
   ]
  },
  {
   "cell_type": "code",
   "execution_count": 7,
   "metadata": {
    "colab": {
     "base_uri": "https://localhost:8080/",
     "height": 34
    },
    "colab_type": "code",
    "id": "P0owpiPEPHuL",
    "outputId": "6824bb7c-afab-4c60-8c13-55c7303d75a8"
   },
   "outputs": [
    {
     "data": {
      "text/plain": [
       "4.00543212890625e-05"
      ]
     },
     "execution_count": 7,
     "metadata": {},
     "output_type": "execute_result"
    }
   ],
   "source": [
    "toc-tic"
   ]
  },
  {
   "cell_type": "code",
   "execution_count": 18,
   "metadata": {
    "colab": {},
    "colab_type": "code",
    "id": "AvyPjweCRfYB"
   },
   "outputs": [],
   "source": [
    "long_list = [42] * 10**6 # one hundred million items"
   ]
  },
  {
   "cell_type": "code",
   "execution_count": 19,
   "metadata": {
    "colab": {
     "base_uri": "https://localhost:8080/",
     "height": 34
    },
    "colab_type": "code",
    "id": "eEyXwNVBTOKq",
    "outputId": "01eb3a80-8834-468b-fd44-c51d199be53e"
   },
   "outputs": [
    {
     "data": {
      "text/plain": [
       "1000000"
      ]
     },
     "execution_count": 19,
     "metadata": {},
     "output_type": "execute_result"
    }
   ],
   "source": [
    "len(long_list)"
   ]
  },
  {
   "cell_type": "code",
   "execution_count": 10,
   "metadata": {
    "colab": {},
    "colab_type": "code",
    "id": "Q-3OdxzwRHHy"
   },
   "outputs": [],
   "source": [
    "tic = time.time()\n",
    "first = take_first(long_list)\n",
    "toc = time.time()"
   ]
  },
  {
   "cell_type": "code",
   "execution_count": 11,
   "metadata": {
    "colab": {
     "base_uri": "https://localhost:8080/",
     "height": 34
    },
    "colab_type": "code",
    "id": "eYfVVpq0XSBJ",
    "outputId": "6b361403-e068-4c66-d110-7d2641b17b95"
   },
   "outputs": [
    {
     "data": {
      "text/plain": [
       "42"
      ]
     },
     "execution_count": 11,
     "metadata": {},
     "output_type": "execute_result"
    }
   ],
   "source": [
    "first"
   ]
  },
  {
   "cell_type": "code",
   "execution_count": 25,
   "metadata": {
    "colab": {
     "base_uri": "https://localhost:8080/",
     "height": 34
    },
    "colab_type": "code",
    "id": "wKMsVOQRTbxc",
    "outputId": "a580c33f-3041-443d-eb9a-563c1a400cef"
   },
   "outputs": [
    {
     "data": {
      "text/plain": [
       "4.76837158203125e-07"
      ]
     },
     "execution_count": 25,
     "metadata": {},
     "output_type": "execute_result"
    }
   ],
   "source": [
    "toc-tic"
   ]
  },
  {
   "cell_type": "code",
   "execution_count": 26,
   "metadata": {
    "colab": {
     "base_uri": "https://localhost:8080/",
     "height": 34
    },
    "colab_type": "code",
    "id": "_7lYwANvX55t",
    "outputId": "8305c6a9-11c2-4262-dbf3-606ee61186cd"
   },
   "outputs": [
    {
     "data": {
      "text/plain": [
       "[10, 100, 1000, 10000, 100000]"
      ]
     },
     "execution_count": 26,
     "metadata": {},
     "output_type": "execute_result"
    }
   ],
   "source": [
    "list_lengths = [10**l for l in range(1, 6)]\n",
    "list_lengths"
   ]
  },
  {
   "cell_type": "code",
   "execution_count": 27,
   "metadata": {
    "colab": {},
    "colab_type": "code",
    "id": "j0igW42mY4cn"
   },
   "outputs": [],
   "source": [
    "constant_times = []\n",
    "\n",
    "for l in list_lengths:\n",
    "  lst = [42]*l\n",
    "  \n",
    "  tic = time.time()\n",
    "  x = take_first(lst)\n",
    "  toc = time.time()\n",
    "  \n",
    "  constant_times.append(toc-tic)"
   ]
  },
  {
   "cell_type": "code",
   "execution_count": 28,
   "metadata": {
    "colab": {},
    "colab_type": "code",
    "id": "6i2ND8bCemLw"
   },
   "outputs": [],
   "source": [
    "import pandas as pd"
   ]
  },
  {
   "cell_type": "code",
   "execution_count": 29,
   "metadata": {
    "colab": {
     "base_uri": "https://localhost:8080/",
     "height": 269
    },
    "colab_type": "code",
    "id": "DuX_4N5VengR",
    "outputId": "5783572b-044d-443f-e382-acb402274df5"
   },
   "outputs": [
    {
     "data": {
      "text/html": [
       "<div>\n",
       "<style scoped>\n",
       "    .dataframe tbody tr th:only-of-type {\n",
       "        vertical-align: middle;\n",
       "    }\n",
       "\n",
       "    .dataframe tbody tr th {\n",
       "        vertical-align: top;\n",
       "    }\n",
       "\n",
       "    .dataframe thead th {\n",
       "        text-align: right;\n",
       "    }\n",
       "</style>\n",
       "<table border=\"1\" class=\"dataframe\">\n",
       "  <thead>\n",
       "    <tr style=\"text-align: right;\">\n",
       "      <th></th>\n",
       "      <th>N</th>\n",
       "      <th>time</th>\n",
       "    </tr>\n",
       "  </thead>\n",
       "  <tbody>\n",
       "    <tr>\n",
       "      <th>0</th>\n",
       "      <td>10</td>\n",
       "      <td>1.668930e-06</td>\n",
       "    </tr>\n",
       "    <tr>\n",
       "      <th>1</th>\n",
       "      <td>100</td>\n",
       "      <td>4.768372e-07</td>\n",
       "    </tr>\n",
       "    <tr>\n",
       "      <th>2</th>\n",
       "      <td>1000</td>\n",
       "      <td>4.768372e-07</td>\n",
       "    </tr>\n",
       "    <tr>\n",
       "      <th>3</th>\n",
       "      <td>10000</td>\n",
       "      <td>4.768372e-07</td>\n",
       "    </tr>\n",
       "    <tr>\n",
       "      <th>4</th>\n",
       "      <td>100000</td>\n",
       "      <td>7.152557e-07</td>\n",
       "    </tr>\n",
       "  </tbody>\n",
       "</table>\n",
       "</div>"
      ],
      "text/plain": [
       "        N          time\n",
       "0      10  1.668930e-06\n",
       "1     100  4.768372e-07\n",
       "2    1000  4.768372e-07\n",
       "3   10000  4.768372e-07\n",
       "4  100000  7.152557e-07"
      ]
     },
     "execution_count": 29,
     "metadata": {},
     "output_type": "execute_result"
    }
   ],
   "source": [
    "constant_df = pd.DataFrame(list(zip(list_lengths, constant_times)), columns=['N', 'time'])\n",
    "constant_df"
   ]
  },
  {
   "cell_type": "markdown",
   "metadata": {
    "colab_type": "text",
    "id": "2ACF9H30UUEl"
   },
   "source": [
    "#### Linear Time"
   ]
  },
  {
   "cell_type": "code",
   "execution_count": 30,
   "metadata": {
    "colab": {},
    "colab_type": "code",
    "id": "2CnMr4wwV2Oj"
   },
   "outputs": [],
   "source": [
    "def find_max(my_list):\n",
    "  max_value = my_list[0]\n",
    "  for i in range(len(my_list)):\n",
    "    if my_list[i] > max_value:\n",
    "      max_value = my_list[i]\n",
    "  return max_value"
   ]
  },
  {
   "cell_type": "code",
   "execution_count": 31,
   "metadata": {
    "colab": {},
    "colab_type": "code",
    "id": "-q39XMCyTci3"
   },
   "outputs": [],
   "source": [
    "tic = time.time()\n",
    "largest = find_max(short_list)\n",
    "toc = time.time()"
   ]
  },
  {
   "cell_type": "code",
   "execution_count": 32,
   "metadata": {
    "colab": {
     "base_uri": "https://localhost:8080/",
     "height": 34
    },
    "colab_type": "code",
    "id": "2lWTIzxoXlPc",
    "outputId": "07f7dc02-738a-4c8d-ed7e-267ec3f71c45"
   },
   "outputs": [
    {
     "data": {
      "text/plain": [
       "42"
      ]
     },
     "execution_count": 32,
     "metadata": {},
     "output_type": "execute_result"
    }
   ],
   "source": [
    "largest"
   ]
  },
  {
   "cell_type": "code",
   "execution_count": 33,
   "metadata": {
    "colab": {
     "base_uri": "https://localhost:8080/",
     "height": 34
    },
    "colab_type": "code",
    "id": "LAspDSQwX2t_",
    "outputId": "da9004c9-0671-450e-f5e3-35a0c2549229"
   },
   "outputs": [
    {
     "data": {
      "text/plain": [
       "4.410743713378906e-05"
      ]
     },
     "execution_count": 33,
     "metadata": {},
     "output_type": "execute_result"
    }
   ],
   "source": [
    "toc-tic"
   ]
  },
  {
   "cell_type": "code",
   "execution_count": 35,
   "metadata": {
    "colab": {},
    "colab_type": "code",
    "id": "kJnXPyMbbpoF"
   },
   "outputs": [],
   "source": [
    "tic = time.time()\n",
    "largest = find_max(long_list)\n",
    "toc = time.time()"
   ]
  },
  {
   "cell_type": "code",
   "execution_count": 36,
   "metadata": {
    "colab": {
     "base_uri": "https://localhost:8080/",
     "height": 34
    },
    "colab_type": "code",
    "id": "_PIJp3c4bx1t",
    "outputId": "9c49928b-82b8-4806-ef25-7a5922f92b75"
   },
   "outputs": [
    {
     "data": {
      "text/plain": [
       "42"
      ]
     },
     "execution_count": 36,
     "metadata": {},
     "output_type": "execute_result"
    }
   ],
   "source": [
    "largest"
   ]
  },
  {
   "cell_type": "code",
   "execution_count": 37,
   "metadata": {
    "colab": {
     "base_uri": "https://localhost:8080/",
     "height": 34
    },
    "colab_type": "code",
    "id": "RlrrPljvbyhm",
    "outputId": "2fcffab1-1175-44b1-9906-ac5a91414adb"
   },
   "outputs": [
    {
     "data": {
      "text/plain": [
       "0.0445859432220459"
      ]
     },
     "execution_count": 37,
     "metadata": {},
     "output_type": "execute_result"
    }
   ],
   "source": [
    "toc-tic"
   ]
  },
  {
   "cell_type": "code",
   "execution_count": 39,
   "metadata": {
    "colab": {},
    "colab_type": "code",
    "id": "fmtWD8C6bK0z"
   },
   "outputs": [],
   "source": [
    "linear_times = []\n",
    "\n",
    "for l in list_lengths:\n",
    "  lst = [42]*l\n",
    "  \n",
    "  tic = time.time()\n",
    "  x = find_max(lst)\n",
    "  toc = time.time()\n",
    "  \n",
    "  linear_times.append(toc-tic)"
   ]
  },
  {
   "cell_type": "code",
   "execution_count": 40,
   "metadata": {
    "colab": {
     "base_uri": "https://localhost:8080/",
     "height": 269
    },
    "colab_type": "code",
    "id": "_fdLU4f5d-n1",
    "outputId": "71c8eaa5-0ca5-4987-cd8d-3892954b04e2"
   },
   "outputs": [
    {
     "data": {
      "text/html": [
       "<div>\n",
       "<style scoped>\n",
       "    .dataframe tbody tr th:only-of-type {\n",
       "        vertical-align: middle;\n",
       "    }\n",
       "\n",
       "    .dataframe tbody tr th {\n",
       "        vertical-align: top;\n",
       "    }\n",
       "\n",
       "    .dataframe thead th {\n",
       "        text-align: right;\n",
       "    }\n",
       "</style>\n",
       "<table border=\"1\" class=\"dataframe\">\n",
       "  <thead>\n",
       "    <tr style=\"text-align: right;\">\n",
       "      <th></th>\n",
       "      <th>N</th>\n",
       "      <th>time</th>\n",
       "    </tr>\n",
       "  </thead>\n",
       "  <tbody>\n",
       "    <tr>\n",
       "      <th>0</th>\n",
       "      <td>10</td>\n",
       "      <td>0.000004</td>\n",
       "    </tr>\n",
       "    <tr>\n",
       "      <th>1</th>\n",
       "      <td>100</td>\n",
       "      <td>0.000005</td>\n",
       "    </tr>\n",
       "    <tr>\n",
       "      <th>2</th>\n",
       "      <td>1000</td>\n",
       "      <td>0.000049</td>\n",
       "    </tr>\n",
       "    <tr>\n",
       "      <th>3</th>\n",
       "      <td>10000</td>\n",
       "      <td>0.000482</td>\n",
       "    </tr>\n",
       "    <tr>\n",
       "      <th>4</th>\n",
       "      <td>100000</td>\n",
       "      <td>0.004997</td>\n",
       "    </tr>\n",
       "  </tbody>\n",
       "</table>\n",
       "</div>"
      ],
      "text/plain": [
       "        N      time\n",
       "0      10  0.000004\n",
       "1     100  0.000005\n",
       "2    1000  0.000049\n",
       "3   10000  0.000482\n",
       "4  100000  0.004997"
      ]
     },
     "execution_count": 40,
     "metadata": {},
     "output_type": "execute_result"
    }
   ],
   "source": [
    "linear_df = pd.DataFrame(list(zip(list_lengths, linear_times)), columns=['N', 'time'])\n",
    "linear_df"
   ]
  },
  {
   "cell_type": "code",
   "execution_count": 41,
   "metadata": {
    "colab": {},
    "colab_type": "code",
    "id": "BY5mPpYWfCxj"
   },
   "outputs": [],
   "source": [
    "import seaborn as sns"
   ]
  },
  {
   "cell_type": "code",
   "execution_count": 42,
   "metadata": {
    "colab": {
     "base_uri": "https://localhost:8080/",
     "height": 369
    },
    "colab_type": "code",
    "id": "eA_6v8hreSpH",
    "outputId": "a466d8c3-d0a4-43ff-8205-440573720103"
   },
   "outputs": [
    {
     "data": {
      "image/png": "[encoded data removed]",
      "text/plain": [
       "<Figure size 360x360 with 1 Axes>"
      ]
     },
     "metadata": {
      "needs_background": "light"
     },
     "output_type": "display_data"
    }
   ],
   "source": [
    "_ = sns.lmplot(x='N', y='time', data=linear_df, ci=None)"
   ]
  },
  {
   "cell_type": "markdown",
   "metadata": {
    "colab_type": "text",
    "id": "8S7JZLW7UbBz"
   },
   "source": [
    "#### Polynomial Time"
   ]
  },
  {
   "cell_type": "code",
   "execution_count": 43,
   "metadata": {
    "colab": {},
    "colab_type": "code",
    "id": "cXQMBEPlplpZ"
   },
   "outputs": [],
   "source": [
    "def element_multiplier(my_list): \n",
    "  for i in range(len(my_list)):\n",
    "    for j in range(len(my_list)):\n",
    "      x = my_list[i] * my_list[j]"
   ]
  },
  {
   "cell_type": "code",
   "execution_count": 44,
   "metadata": {
    "colab": {
     "base_uri": "https://localhost:8080/",
     "height": 34
    },
    "colab_type": "code",
    "id": "0h1VeAaSqYNv",
    "outputId": "ff9015b1-73c3-4be8-e247-cc108338d04b"
   },
   "outputs": [
    {
     "data": {
      "text/plain": [
       "[10, 100, 1000, 10000, 100000]"
      ]
     },
     "execution_count": 44,
     "metadata": {},
     "output_type": "execute_result"
    }
   ],
   "source": [
    "list_lengths"
   ]
  },
  {
   "cell_type": "code",
   "execution_count": 45,
   "metadata": {
    "colab": {
     "base_uri": "https://localhost:8080/",
     "height": 34
    },
    "colab_type": "code",
    "id": "5OlX1YyirN48",
    "outputId": "a8426a41-e717-411d-a30e-809952f5b6f8"
   },
   "outputs": [
    {
     "data": {
      "text/plain": [
       "[10, 100, 1000, 10000]"
      ]
     },
     "execution_count": 45,
     "metadata": {},
     "output_type": "execute_result"
    }
   ],
   "source": [
    "list_lengths[:4] # compute time gets annoyingly long from list_lengths[5] onward"
   ]
  },
  {
   "cell_type": "code",
   "execution_count": 46,
   "metadata": {
    "colab": {
     "base_uri": "https://localhost:8080/",
     "height": 34
    },
    "colab_type": "code",
    "id": "6j6cAuMltFqW",
    "outputId": "57b6f80e-a461-4ba9-823d-f59b3aaf3e17"
   },
   "outputs": [
    {
     "data": {
      "text/plain": [
       "[10, 100, 1000, 10000, 50, 500, 5000]"
      ]
     },
     "execution_count": 46,
     "metadata": {},
     "output_type": "execute_result"
    }
   ],
   "source": [
    "granular_list_lengths = list_lengths[:4] + [50, 500, 5000]\n",
    "granular_list_lengths"
   ]
  },
  {
   "cell_type": "code",
   "execution_count": 47,
   "metadata": {
    "colab": {},
    "colab_type": "code",
    "id": "YPDXf8DVtYyk"
   },
   "outputs": [],
   "source": [
    "granular_list_lengths.sort()"
   ]
  },
  {
   "cell_type": "code",
   "execution_count": 48,
   "metadata": {
    "colab": {
     "base_uri": "https://localhost:8080/",
     "height": 34
    },
    "colab_type": "code",
    "id": "v0hlQ1bEtdA7",
    "outputId": "f6b4484b-a9bd-4470-ca85-cd82d1948355"
   },
   "outputs": [
    {
     "data": {
      "text/plain": [
       "[10, 50, 100, 500, 1000, 5000, 10000]"
      ]
     },
     "execution_count": 48,
     "metadata": {},
     "output_type": "execute_result"
    }
   ],
   "source": [
    "granular_list_lengths"
   ]
  },
  {
   "cell_type": "code",
   "execution_count": 49,
   "metadata": {
    "colab": {},
    "colab_type": "code",
    "id": "M7TmUgtrrSJR"
   },
   "outputs": [],
   "source": [
    "poly_times = []\n",
    "\n",
    "for l in granular_list_lengths:\n",
    "  lst = [42]*l\n",
    "\n",
    "  tic = time.time()\n",
    "  x = element_multiplier(lst)\n",
    "  toc = time.time()\n",
    "\n",
    "  poly_times.append(toc-tic)"
   ]
  },
  {
   "cell_type": "code",
   "execution_count": 50,
   "metadata": {
    "colab": {
     "base_uri": "https://localhost:8080/",
     "height": 269
    },
    "colab_type": "code",
    "id": "iFaVujgXrsKz",
    "outputId": "dc4ae453-1e95-47be-d87f-913cb79d4dc1"
   },
   "outputs": [
    {
     "data": {
      "text/html": [
       "<div>\n",
       "<style scoped>\n",
       "    .dataframe tbody tr th:only-of-type {\n",
       "        vertical-align: middle;\n",
       "    }\n",
       "\n",
       "    .dataframe tbody tr th {\n",
       "        vertical-align: top;\n",
       "    }\n",
       "\n",
       "    .dataframe thead th {\n",
       "        text-align: right;\n",
       "    }\n",
       "</style>\n",
       "<table border=\"1\" class=\"dataframe\">\n",
       "  <thead>\n",
       "    <tr style=\"text-align: right;\">\n",
       "      <th></th>\n",
       "      <th>N</th>\n",
       "      <th>time</th>\n",
       "    </tr>\n",
       "  </thead>\n",
       "  <tbody>\n",
       "    <tr>\n",
       "      <th>0</th>\n",
       "      <td>10</td>\n",
       "      <td>0.000012</td>\n",
       "    </tr>\n",
       "    <tr>\n",
       "      <th>1</th>\n",
       "      <td>50</td>\n",
       "      <td>0.000143</td>\n",
       "    </tr>\n",
       "    <tr>\n",
       "      <th>2</th>\n",
       "      <td>100</td>\n",
       "      <td>0.000618</td>\n",
       "    </tr>\n",
       "    <tr>\n",
       "      <th>3</th>\n",
       "      <td>500</td>\n",
       "      <td>0.015773</td>\n",
       "    </tr>\n",
       "    <tr>\n",
       "      <th>4</th>\n",
       "      <td>1000</td>\n",
       "      <td>0.060207</td>\n",
       "    </tr>\n",
       "    <tr>\n",
       "      <th>5</th>\n",
       "      <td>5000</td>\n",
       "      <td>1.544962</td>\n",
       "    </tr>\n",
       "    <tr>\n",
       "      <th>6</th>\n",
       "      <td>10000</td>\n",
       "      <td>6.096379</td>\n",
       "    </tr>\n",
       "  </tbody>\n",
       "</table>\n",
       "</div>"
      ],
      "text/plain": [
       "       N      time\n",
       "0     10  0.000012\n",
       "1     50  0.000143\n",
       "2    100  0.000618\n",
       "3    500  0.015773\n",
       "4   1000  0.060207\n",
       "5   5000  1.544962\n",
       "6  10000  6.096379"
      ]
     },
     "execution_count": 50,
     "metadata": {},
     "output_type": "execute_result"
    }
   ],
   "source": [
    "poly_df = pd.DataFrame(list(zip(granular_list_lengths, poly_times)), columns=['N', 'time'])\n",
    "poly_df"
   ]
  },
  {
   "cell_type": "code",
   "execution_count": 51,
   "metadata": {
    "colab": {
     "base_uri": "https://localhost:8080/",
     "height": 369
    },
    "colab_type": "code",
    "id": "GLmzSaMYsgeb",
    "outputId": "dd2ce52d-18f8-45f3-a6a3-a9ea3bc6ba42"
   },
   "outputs": [
    {
     "data": {
      "image/png": "[encoded data removed]",
      "text/plain": [
       "<Figure size 360x360 with 1 Axes>"
      ]
     },
     "metadata": {
      "needs_background": "light"
     },
     "output_type": "display_data"
    }
   ],
   "source": [
    "_ = sns.lmplot(x='N', y='time', data=poly_df, ci=None, order=2)"
   ]
  },
  {
   "cell_type": "markdown",
   "metadata": {
    "colab_type": "text",
    "id": "mpl4mIzzUuI6"
   },
   "source": [
    " #### In Big O notation: \n",
    "\n",
    " * constant: O(1)\n",
    " * linear: O(N)\n",
    " * polynomial: O(N**2) \n",
    " \n",
    "\n",
    " #### Others\n",
    "\n",
    "* logarithmic: O(log N)\n",
    "* exponential: O(2**N)\n",
    "* O(N log N)\n",
    "* O(N!) "
   ]
  },
  {
   "cell_type": "code",
   "execution_count": 53,
   "metadata": {
    "colab": {},
    "colab_type": "code",
    "id": "xHaG3z18VSFw"
   },
   "outputs": [],
   "source": [
    "import functools\n",
    "\n",
    "def time_it(func):\n",
    "    \"\"\" Calculate the execution time of a method and return it back\"\"\"\n",
    "    @functools.wraps(func)\n",
    "    def wrapper(*args, **kwargs):\n",
    "        start = time.time()\n",
    "        result = func(*args, **kwargs)\n",
    "        duration = time.time() - start\n",
    "\n",
    "        print(f\"Duration of {func.__name__} function was {duration}.\")\n",
    "        return result\n",
    "    return wrapper"
   ]
  },
  {
   "cell_type": "code",
   "execution_count": 54,
   "metadata": {},
   "outputs": [],
   "source": [
    "@time_it\n",
    "def element_multiplier(my_list): \n",
    "  for i in range(len(my_list)):\n",
    "    for j in range(len(my_list)):\n",
    "      x = my_list[i] * my_list[j]"
   ]
  },
  {
   "cell_type": "code",
   "execution_count": 63,
   "metadata": {},
   "outputs": [
    {
     "name": "stdout",
     "output_type": "stream",
     "text": [
      "Duration of element_multiplier function was 0.0635533332824707.\n"
     ]
    }
   ],
   "source": [
    "element_multiplier([56]*10**3)"
   ]
  },
  {
   "cell_type": "code",
   "execution_count": 59,
   "metadata": {},
   "outputs": [
    {
     "name": "stdout",
     "output_type": "stream",
     "text": [
      "None\n"
     ]
    }
   ],
   "source": [
    "\"\"\"\n",
    "Notes:\n",
    "Create a list of items N\n",
    "Output the time(s) running the function with N elements \n",
    "plot N vs time. \n",
    "\"\"\""
   ]
  },
  {
   "cell_type": "code",
   "execution_count": null,
   "metadata": {},
   "outputs": [],
   "source": []
  }
 ],
 "metadata": {
  "colab": {
   "include_colab_link": true,
   "name": "big-O-notation.ipynb",
   "provenance": []
  },
  "kernelspec": {
   "display_name": "Python 3",
   "language": "python",
   "name": "python3"
  },
  "language_info": {
   "codemirror_mode": {
    "name": "ipython",
    "version": 3
   },
   "file_extension": ".py",
   "mimetype": "text/x-python",
   "name": "python",
   "nbconvert_exporter": "python",
   "pygments_lexer": "ipython3",
   "version": "3.8.10"
  }
 },
 "nbformat": 4,
 "nbformat_minor": 1
}
